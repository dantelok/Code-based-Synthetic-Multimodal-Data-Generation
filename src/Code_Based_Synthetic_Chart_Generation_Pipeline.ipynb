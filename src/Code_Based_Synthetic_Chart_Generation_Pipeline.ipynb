{
  "nbformat": 4,
  "nbformat_minor": 0,
  "metadata": {
    "colab": {
      "provenance": []
    },
    "kernelspec": {
      "name": "python3",
      "display_name": "Python 3"
    },
    "language_info": {
      "name": "python"
    }
  },
  "cells": [
    {
      "cell_type": "code",
      "execution_count": null,
      "metadata": {
        "id": "UoYI34_5GDIA"
      },
      "outputs": [],
      "source": [
        "!pip install cohere --upgrade\n",
        "!python -m pip install cohere --upgrade\n",
        "!pip install --upgrade cohere retrying ratelimit"
      ]
    },
    {
      "cell_type": "code",
      "source": [
        "!pip install transformers"
      ],
      "metadata": {
        "id": "CLUmV9CLiZQu"
      },
      "execution_count": null,
      "outputs": []
    },
    {
      "cell_type": "markdown",
      "source": [
        "# Code Generation for chart-creation"
      ],
      "metadata": {
        "id": "vJou0V4C6Jjn"
      }
    },
    {
      "cell_type": "code",
      "source": [
        "from dataclasses import dataclass\n",
        "from typing import List\n",
        "import pandas as pd\n",
        "import time\n",
        "import json\n",
        "import cohere\n",
        "from pdb import set_trace\n",
        "from tqdm.contrib.concurrent import thread_map\n",
        "from functools import partial\n",
        "from tqdm.auto import tqdm\n",
        "from retrying import retry\n",
        "from ratelimit import limits\n",
        "from cohere.base_client import ApiError\n",
        "import httpx\n",
        "from getpass import getpass\n",
        "import os\n",
        "from google.colab import drive\n",
        "import random\n",
        "import pickle"
      ],
      "metadata": {
        "id": "AcbqJKZaGgOk"
      },
      "execution_count": 3,
      "outputs": []
    },
    {
      "cell_type": "code",
      "source": [
        "# Mount the Google Drive at /content/drive\n",
        "drive.mount('/content/drive/', force_remount=True)\n",
        "\n",
        "# Verify by listing the files in the drive\n",
        "#!ls \"/content/drive/MyDrive/\""
      ],
      "metadata": {
        "colab": {
          "base_uri": "https://localhost:8080/"
        },
        "id": "oI-zSvfoJmEG",
        "outputId": "297dbd3f-8b0a-449b-c35e-31813a52d1e7"
      },
      "execution_count": 5,
      "outputs": [
        {
          "output_type": "stream",
          "name": "stdout",
          "text": [
            "Mounted at /content/drive/\n"
          ]
        }
      ]
    },
    {
      "cell_type": "code",
      "source": [
        "os.environ[\"CO_API_KEY\"] = getpass(\" Enter Cohere Key \")"
      ],
      "metadata": {
        "colab": {
          "base_uri": "https://localhost:8080/"
        },
        "id": "68ex2muEL6-V",
        "outputId": "c2e74053-0878-45a6-8232-7060ab9f9213"
      },
      "execution_count": 47,
      "outputs": [
        {
          "name": "stdout",
          "output_type": "stream",
          "text": [
            " Enter Cohere Key ··········\n"
          ]
        }
      ]
    },
    {
      "cell_type": "code",
      "source": [],
      "metadata": {
        "id": "D1d_HBo5EXuB"
      },
      "execution_count": null,
      "outputs": []
    },
    {
      "cell_type": "markdown",
      "source": [
        "# CSV as Input: Data Loading"
      ],
      "metadata": {
        "id": "n0oUTlPmEaCA"
      }
    },
    {
      "cell_type": "code",
      "source": [
        "dataframe = pd.read_csv(\"/content/drive/MyDrive/Code_Based_Synthetic_Data_Gen/dataset.csv\")\n",
        "dataframe.head()\n",
        "dataframe.shape"
      ],
      "metadata": {
        "colab": {
          "base_uri": "https://localhost:8080/"
        },
        "id": "iHjsnGXXJ62y",
        "outputId": "b5555225-194a-48ec-8489-b6c61de24a24"
      },
      "execution_count": 66,
      "outputs": [
        {
          "output_type": "execute_result",
          "data": {
            "text/plain": [
              "(10000, 21)"
            ]
          },
          "metadata": {},
          "execution_count": 66
        }
      ]
    },
    {
      "cell_type": "code",
      "source": [
        "\n",
        "\n",
        "GENERATE_CHART_CODE_MATPLOTLIB_PROMPT = \"\"\"You are an expert in data analysis and good at writing code (Python `matplotlib`) to generate plots.\n",
        "I have some data about {topic} which can be used to generate a {figure_type}. Your task is to generate and output all 80 python functions.\n",
        "\n",
        "Here is the data (CSV format, already loaded as a pd.DataFrame):\n",
        "<data>\n",
        "{data}\n",
        "</data>\n",
        "\n",
        "Please define 80 different Python function (using `matplotlib`) called `generate_plot` that generates a {figure_type} using the data provided, using various columns. However, for every chart, ensure that the data being represented is restricted to 10 to 15 values, for making it easier to read the chart, and prevent overlapping of labels. Every function should be in a seperate script. Here are the requirements:\n",
        "1. **Code Requirements**: create a function called `generate_plot` that generates the chart using `matplotlib`.\n",
        "    (1) The data, which is loaded in as a `pd.DataFrame` is taken as an argument. The function has no other arguments. The data needs to be loaded as a pd.DataFrame. You may need to adjust the data format or hard code some data to fit the `matplotlib` specification.\n",
        "    (2) Remember to import necessary libraries (e.g., `import numpy as np`, `import matplotlib.pyplot as plt`) at the beginning of the script. Also import (`import pandas as pd`).\n",
        "    (3) The function should always return a `PIL.Image.Image` object.\n",
        "    (4) Ensure that the plot is properly labeled, with all labels visible and has a title.\n",
        "    (5) The `generate_plot` function should save the plot to a BytesIO and then return the plot as a PIL Image object. **Do not close the BytesIO object.**\n",
        "    (6) Use `bbox_inches='tight'` argument in `savefig` or `plt.tight_layout()`, ensuring the plot is saved with all the elements (title, labels, etc) visible.\n",
        "    (7) Only define the function and do not call it. Do not show the plot. Save the plot with appropriate resolution. No need to show example usage.\n",
        "\n",
        "2. **Output Requirements**:\n",
        "    Put ```python at the beginning and ``` at the end of the script to separate the code from the text. This will help me easily extract the code.\n",
        "\n",
        "Please don't answer with any additional text in the script or at the end, your whole response should be the Python code which can be directly executed. Ensure that all 80 python functions are produced as output.\"\"\"\n",
        "\n",
        "\n",
        "\n",
        "SYS_PROMPT = SYS_PROMPT =\"\"\"\n",
        "You are a helpful AI assistant.\n",
        "\"\"\"\n",
        "\n",
        "formatted_prompts_updated=[]\n",
        "chart_types = [\"bar\", \"line\", \"pie\", \"scatter\"]\n",
        "for i in range(len(chart_types)):\n",
        "  messages =  messages = [{\"role\": \"system\", \"content\": SYS_PROMPT},\n",
        "                  {\"role\": \"user\", \"content\": \"\"}]\n",
        "  messages[1][\"content\"] = GENERATE_CHART_CODE_MATPLOTLIB_PROMPT.format(topic=\"world_happiness_report\", figure_type=chart_types[i], data=dataframe)\n",
        "  formatted_prompts_updated.append(messages)\n",
        "\n",
        "class CohereClientWrapper:\n",
        "    def __init__(self, wait_exponential_multiplier_ms, wait_exponential_max_ms, stop_max_attempt_number):\n",
        "      self.wait_exponential_multiplier_ms = wait_exponential_multiplier_ms,\n",
        "      self.wait_exponential_max_ms = wait_exponential_max_ms\n",
        "      self.stop_max_attempt_number = stop_max_attempt_number\n",
        "      self.client = cohere.ClientV2()\n",
        "\n",
        "    def get_completion(self, prompt, **kwargs) -> str:\n",
        "\n",
        "        def should_retry_on_exception(e: Exception):\n",
        "            if isinstance(e, (cohere.TooManyRequestsError, httpx.ReadTimeout, httpx.RemoteProtocolError, httpx.ConnectError)):\n",
        "                return True\n",
        "            elif isinstance(e, ApiError):\n",
        "                if e.status_code:\n",
        "                    return True\n",
        "                else:\n",
        "                    return False\n",
        "            return False\n",
        "\n",
        "        @retry(wait_exponential_multiplier=self.wait_exponential_multiplier_ms,\n",
        "               wait_exponential_max=self.wait_exponential_max_ms,\n",
        "               stop_max_attempt_number=self.stop_max_attempt_number,\n",
        "               retry_on_exception=should_retry_on_exception)\n",
        "        def _run(prompt):\n",
        "            response = self.client.chat(\n",
        "                messages=prompt,\n",
        "                **kwargs,\n",
        "                model=self.model_name,\n",
        "                temperature=0.4,\n",
        "                response_format={\"type\": \"text\"\n",
        "                }\n",
        "            )\n",
        "            time.sleep(2)\n",
        "\n",
        "            return response.message.content[0].text\n",
        "\n",
        "        return _run(prompt)\n",
        "\n",
        "    def get_parrallel_completions(self, prompts: List[str], model_name, **kwargs) -> List[str]:\n",
        "        self.model_name=model_name\n",
        "        desc = kwargs.pop(\"desc\", None)\n",
        "        _get_completion_fn = partial(self.get_completion, **kwargs)\n",
        "        responses = thread_map(_get_completion_fn, prompts,\n",
        "                               max_workers=1, desc=desc)\n",
        "        return list(responses)\n",
        "\n",
        "test_exec = CohereClientWrapper(10000,10000,60)\n",
        "responses_all = test_exec.get_parrallel_completions(formatted_prompts_updated, model_name=\"command-a-03-2025\")\n"
      ],
      "metadata": {
        "id": "e8Sg89WBGKwS"
      },
      "execution_count": 68,
      "outputs": []
    },
    {
      "cell_type": "markdown",
      "source": [
        "# Script extraction and image generation"
      ],
      "metadata": {
        "id": "hG9KZ4zsVt6P"
      }
    },
    {
      "cell_type": "code",
      "source": [
        "import re\n",
        "import subprocess\n",
        "import json\n",
        "\n",
        "figtype = \"\"\n",
        "datatype = \"\"\n",
        "data_path = \"\"\n",
        "\n",
        "def extract_and_run_python_code_from_json_list(responses):\n",
        "    for item in range(0,len(responses)):\n",
        "        data = responses[item]\n",
        "\n",
        "        func_defintion =  \"\"\"\\nif __name__ == \"__main__\":\n",
        "        \\n    import sys\n",
        "        \\n    df = pd.read_csv(sys.argv[1])\n",
        "        \\n    result=generate_plot(df)\n",
        "        \\n    result.save(sys.argv[2])\n",
        "        \"\"\"\n",
        "\n",
        "        pattern = re.compile(r'```python(.*?)```', re.DOTALL)\n",
        "        matches = pattern.findall(data)\n",
        "        print(len(matches))\n",
        "\n",
        "        for i, match in enumerate(matches, 1):\n",
        "          #print(f\"Script {i}:\\n{match}\\n\")\n",
        "          code_snippet = match + func_defintion\n",
        "          #print(code_snippet)\n",
        "          outfile_path = f\"./images_{figtype}_{datatype}/{figtype}_{datatype}{i}.png\"\n",
        "\n",
        "          # Save the code to a file\n",
        "          filename = f'scripts_{figtype}_{datatype}/extracted_code_{figtype}_{i}.py'\n",
        "          with open(filename, 'w') as file:\n",
        "            file.write(code_snippet)\n",
        "\n",
        "\n",
        "\n",
        "          # Run the code\n",
        "          result = subprocess.run(['python', filename, data_path, outfile_path], capture_output=True, text=True)\n",
        "          print(\"Output:\", result.stdout)\n",
        "          print(\"Errors:\", result.stderr)\n",
        "          print(type(result.stdout))\n",
        "\n",
        "extract_and_run_python_code_from_json_list(responses_all)\n"
      ],
      "metadata": {
        "id": "k0khyiA6M7jk"
      },
      "execution_count": null,
      "outputs": []
    },
    {
      "cell_type": "markdown",
      "source": [
        "# Question-Answer Generation"
      ],
      "metadata": {
        "id": "neW-ApJCVp0y"
      }
    },
    {
      "cell_type": "code",
      "source": [
        "\n",
        "GENERATE_QUESTION_ANSWER_PAIRS_BAR = \"\"\"\n",
        "You are an expert in data analysis and good at generating questions and answers based on data visualizations.\n",
        "I have some code that generates a bar chart using `matplotlib`. And a corresponding dataframe.\n",
        "\n",
        "Here is the code:\n",
        "<code>\n",
        "{code}\n",
        "</code>\n",
        "\n",
        "Here is the data (CSV format, already loaded as a pd.DataFrame):\n",
        "<data>\n",
        "{data}\n",
        "</data>\n",
        "\n",
        "\n",
        "Please generate a set of questions and answers based on the bar chart generated by this code. Use the following templates for the questions:\n",
        "1. What is the total value for [category]?\n",
        "2. What is the average value across all categories?\n",
        "3. How many categories have a value greater than [threshold]?\n",
        "4. Which category has the highest total value?\n",
        "5. Which category has the lowest total value?\n",
        "6. What is the combined total value of [category1] and [category2]?\n",
        "7. What is the difference in total value between [category1] and [category2]?\n",
        "8. What percentage of the total value does [category] represent?\n",
        "9. How many categories have values less than [threshold]?\n",
        "10. What is the median value across all categories?\n",
        "\n",
        "\n",
        "Please provide the questions and their corresponding answers as a csv. Mark with ``` where the csv begins and ends. Output no other text at the end.\n",
        "\"\"\"\n",
        "\n",
        "\n",
        "GENERATE_QUESTION_ANSWER_PAIRS_LINE = \"\"\"\n",
        "You are an expert in data analysis and good at generating questions and answers based on data visualizations.\n",
        "I have some code that generates a bar chart using `matplotlib`. And a corresponding dataframe.\n",
        "\n",
        "Here is the code:\n",
        "<code>\n",
        "{code}\n",
        "</code>\n",
        "\n",
        "Here is the data (CSV format, already loaded as a pd.DataFrame):\n",
        "<data>\n",
        "{data}\n",
        "</data>\n",
        "\n",
        "\n",
        "Please generate a set of questions and answers based on the line chart generated by this code. For reference for [category], you can use the dataframe provided w.r.t line chart, and for [speicifc point] you can use the code for the bar chart and dataframe as reference. Only specifically generate questions for the provided line chart, and nothing else:\n",
        "Specify the answer as answer as 1 or two words/ numerical value and not entire sentences. Use the following templates for the questions:\n",
        "1. What is the value for [category] at [specific point]?\n",
        "2. What is the trend shown in the line chart?\n",
        "3. Identify any peaks or troughs in the chart and explain their significance.\n",
        "4. How many categories have values greater than [threshold] at [specific point]?\n",
        "5. What is the difference in value between [category1] and [category2] at [specific point]?\n",
        "6. What is the average value across all categories at [specific point]?\n",
        "7. Describe the overall trend for [category].\n",
        "8. What is the combined value of [category1] and [category2] at [specific point]?\n",
        "9. What is the maximum value observed in the chart?\n",
        "10. What is the minimum value observed in the chart?\n",
        "\n",
        "\n",
        "Please provide the questions and their corresponding answers as a csv. Mark with ``` where the csv begins and ends. Output no other text at the end.\n",
        "\"\"\"\n",
        "\n",
        "GENERATE_QUESTION_ANSWER_PAIRS_SCATTER = \"\"\"\n",
        "You are an expert in data analysis and good at generating questions and answers based on data visualizations.\n",
        "I have some code that generates a bar chart using `matplotlib`. For reference for [category], you can use the dataframe provided w.r.t scatter chart. Only specifically generate questions for the provided scatter chart, and nothing else:\n",
        "Specify the answer as answer as 1 or two words/ numerical value and not entire sentences. And a corresponding dataframe.\n",
        "\n",
        "Here is the code:\n",
        "<code>\n",
        "{code}\n",
        "</code>\n",
        "\n",
        "Here is the data (CSV format, already loaded as a pd.DataFrame):\n",
        "<data>\n",
        "{data}\n",
        "</data>\n",
        "\n",
        "\n",
        "\n",
        "Please generate a set of questions and answers based on the scatter plot generated by this code. For reference for [category] and [variable], you can use the dataframe provided w.r.t bar chart. Only specifically generate questions for the provided bar chart, and nothing else:\n",
        "Specify the answer as answer as 1 or two words/ numerical value and not entire sentences. Use the following templates for the questions:\n",
        "1. What is the value of [variable] for  [category]?\n",
        "2. What is the trend shown in the scatter plot?\n",
        "3. Identify any clusters in the scatter plot and explain their significance.\n",
        "4. How many points have a [variable] value greater than [threshold]?\n",
        "5. What is the difference in [variable]value between  [category1] and  [category2]?\n",
        "6. What is the average [variable] value across all points?\n",
        "7. Describe the overall distribution of [variable].\n",
        "8. What is the combined [variable]value of [category1] and [category2]?\n",
        "9. What is the maximum [variable] value observed in the scatter plot?\n",
        "10. What is the minimum [variable] value observed in the scatter plot?\n",
        "\n",
        "\n",
        "Please provide the questions and their corresponding answers as a csv. Mark with ``` where the csv begins and ends. Output no other text at the end.\n",
        "\"\"\"\n",
        "\n",
        "GENERATE_QUESTION_ANSWER_PAIRS_PIE = \"\"\"You are an expert in data analysis and good at generating questions and answers based on data visualizations.\n",
        "I have some code that generates a pie chart using `matplotlib`.\n",
        "\n",
        "Here is the code:\n",
        "<code>\n",
        "{code}\n",
        "</code>\n",
        "\n",
        "Here is the data (CSV format, already loaded as a pd.DataFrame):\n",
        "<data>\n",
        "{data}\n",
        "</data>\n",
        "\n",
        "\n",
        "Please generate a set of questions and answers based on the pie chart generated by this code. For reference for [category], you can use the dataframe provided w.r.t pie chart. Only specifically generate questions for the provided pie chart, and nothing else:\n",
        "Specify the answer as answer as 1 or two words/ numerical value and not entire sentences. Use the following templates for the questions:\n",
        "1. What percentage of the total value does [category1]represent?\n",
        "2. Which category has the largest value?\n",
        "3. Which category has the smallest value?\n",
        "4. What is the combined percentage of the total value for [category1] and [category2]?\n",
        "5. What is the difference in percentage between [category1]and [category2]?\n",
        "6. How many categories have a value greater than [threshold]?\n",
        "7. What is the combined value of [category1] and [category2]?\n",
        "8. What is the average value across all categories?\n",
        "9. What is the total value represented in the pie chart?\n",
        "10. How many categories have values less than [threshold]?\n",
        "\n",
        "\n",
        "Please provide the questions and their corresponding answers as a csv. Mark with ``` where the csv begins and ends. Output no other text at the end.\"\"\"\n",
        "\n",
        "\n",
        "\n",
        "SYS_PROMPT = SYS_PROMPT =\"\"\"\n",
        "You are a helpful AI assistant.\n",
        "\"\"\"\n",
        "\n",
        "\n",
        "formatted_prompts = []"
      ],
      "metadata": {
        "id": "5_1v9kH9smTl"
      },
      "execution_count": 76,
      "outputs": []
    },
    {
      "cell_type": "markdown",
      "source": [],
      "metadata": {
        "id": "HviwoIOpVtuQ"
      }
    },
    {
      "cell_type": "code",
      "source": [
        "formatted_prompts = []\n",
        "responses_all=[]\n",
        "figtype = \"\"\n",
        "datatype = \"\"\n",
        "for i in range(1,41):\n",
        "    with open(f\"scripts_{figtype}_{datatype}/extracted_code_{figtype}_{i}.py\") as f:\n",
        "      code = f.read()\n",
        "      print(code)\n",
        "      code = \"```python\" + code + \"```\"\n",
        "\n",
        "\n",
        "    messages =  messages = [{\"role\": \"system\", \"content\": SYS_PROMPT},\n",
        "                    {\"role\": \"user\", \"content\": \"\"}]\n",
        "    messages[1][\"content\"] = GENERATE_QUESTION_ANSWER_PAIRS_BAR.format(code=code, data=dataframe)\n",
        "    formatted_prompts.append(messages)\n",
        "\n",
        "responses = test_exec.get_parrallel_completions(formatted_prompts, model_name=\"command-a-03-2025\")"
      ],
      "metadata": {
        "id": "h3udAkneWxUF"
      },
      "execution_count": null,
      "outputs": []
    },
    {
      "cell_type": "markdown",
      "source": [
        "# Write CSV's of QA pairs"
      ],
      "metadata": {
        "id": "dcw1wAS2xax_"
      }
    },
    {
      "cell_type": "code",
      "source": [],
      "metadata": {
        "id": "obU81R2NxUaX"
      },
      "execution_count": null,
      "outputs": []
    },
    {
      "cell_type": "code",
      "source": [
        "import pandas as pd\n",
        "\n",
        "\n",
        "for i in range(0,len(responses)):\n",
        "    # Given CSV data\n",
        "    csv_data = responses[i]\n",
        "\n",
        "    image_path = f\"images_{figtype}_{datatype}/{figtype}_{datatype}_{i+1}.png\"\n",
        "    script_path = f\"scripts_{figtype}_{datatype}/extracted_code_{figtype}_{i+1}.py\"\n",
        "    data_domain =   \"diabetes\"\n",
        "\n",
        "    # Convert the CSV data to a DataFrame\n",
        "    data = [line.split(',') for line in csv_data.strip().split('\\n')]\n",
        "    #print(data)\n",
        "    df = pd.DataFrame(data[1:])\n",
        "    print(df.head())\n",
        "    if len(df.columns)>0:\n",
        "      df = df.loc[:,[0,1]]\n",
        "\n",
        "      # Remove the first row from the DataFrame\n",
        "      df = df.iloc[1:]\n",
        "\n",
        "      df.columns=[\"Question\", \"Answer\"]\n",
        "\n",
        "      # Add 'image_path' and 'script_path' columns\n",
        "      df[\"image_path\"] = image_path\n",
        "      df[\"script_path\"] = script_path\n",
        "      df[\"data_domain\"] = data_domain\n",
        "\n",
        "\n",
        "      # Display the DataFrame\n",
        "      print(df.head())\n",
        "\n",
        "      df.to_csv(f\"question_answer_label_{figtype}_diabetes/{figtype}_{datatype}_{i}.csv\")\n"
      ],
      "metadata": {
        "id": "PxQ0nJtDZViS"
      },
      "execution_count": null,
      "outputs": []
    },
    {
      "cell_type": "code",
      "source": [],
      "metadata": {
        "id": "fIM4n0cmxWhT"
      },
      "execution_count": null,
      "outputs": []
    },
    {
      "cell_type": "markdown",
      "source": [
        "# Save Generated Data"
      ],
      "metadata": {
        "id": "WKwovf0kKV3F"
      }
    },
    {
      "cell_type": "code",
      "source": [
        "!cp -r ./image/ '/content/drive/My Drive/Code_Based_Synthetic_Data_Gen//'"
      ],
      "metadata": {
        "id": "H4E87dmdhj3V"
      },
      "execution_count": null,
      "outputs": []
    },
    {
      "cell_type": "code",
      "source": [
        "!cp -r ./scripts/ '/content/drive/My Drive/Code_Based_Synthetic_Data_Gen/'"
      ],
      "metadata": {
        "id": "TRTpRwich-LL"
      },
      "execution_count": null,
      "outputs": []
    },
    {
      "cell_type": "code",
      "source": [
        "!cp -r ./question/ '/content/drive/My Drive/Code_Based_Synthetic_Data_Gen/'"
      ],
      "metadata": {
        "id": "BeuP2KIfiCYM"
      },
      "execution_count": null,
      "outputs": []
    },
    {
      "cell_type": "markdown",
      "source": [],
      "metadata": {
        "id": "jgVgz2MVVtwk"
      }
    },
    {
      "cell_type": "markdown",
      "source": [],
      "metadata": {
        "id": "dEEdIp8uVty1"
      }
    },
    {
      "cell_type": "markdown",
      "source": [],
      "metadata": {
        "id": "ghpUbGxaVt1V"
      }
    },
    {
      "cell_type": "markdown",
      "source": [],
      "metadata": {
        "id": "yB2U7Rw2Vt3h"
      }
    },
    {
      "cell_type": "code",
      "source": [],
      "metadata": {
        "id": "8gBmZ-Nhk3KX"
      },
      "execution_count": null,
      "outputs": []
    }
  ]
}